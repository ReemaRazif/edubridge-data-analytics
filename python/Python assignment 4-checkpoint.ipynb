{
 "cells": [
  {
   "cell_type": "markdown",
   "id": "dc0ea99f",
   "metadata": {},
   "source": [
    "Program to find the roots of a quadratic equation"
   ]
  },
  {
   "cell_type": "code",
   "execution_count": 1,
   "id": "8a8ad17f",
   "metadata": {},
   "outputs": [
    {
     "name": "stdout",
     "output_type": "stream",
     "text": [
      "Insert coefficient a: 1\n",
      "Insert coefficient b: 5\n",
      "Insert coefficient c: 6\n",
      "The function has two distinct real roots: -2.0 and -3.0\n"
     ]
    }
   ],
   "source": [
    "import math\n",
    "\n",
    "a = float(input(\"Insert coefficient a: \"))\n",
    "b = float(input(\"Insert coefficient b: \"))\n",
    "c = float(input(\"Insert coefficient c: \"))\n",
    "\n",
    "discriminant = b**2 - 4 * a * c\n",
    "\n",
    "if discriminant >= 0:\n",
    "    x_1=(-b+math.sqrt(discriminant))/2*a\n",
    "    x_2=(-b-math.sqrt(discriminant))/2*a\n",
    "else:\n",
    "    x_1= complex((-b/(2*a)),math.sqrt(-discriminant)/(2*a))\n",
    "    x_2= complex((-b/(2*a)),-math.sqrt(-discriminant)/(2*a))\n",
    "if discriminant > 0:\n",
    "    print(\"The function has two distinct real roots: {} and {}\".format(x_1,x_2))\n",
    "elif discriminant == 0:\n",
    "    print(\"The function has one double root: \", x_1)\n",
    "else:\n",
    "    print(\"The function has two complex (conjugate) roots: {}  and {}\".format(x_1,x_2))"
   ]
  },
  {
   "cell_type": "markdown",
   "id": "1f8317b7",
   "metadata": {},
   "source": [
    "Program to check whether a given number is prime or not"
   ]
  },
  {
   "cell_type": "code",
   "execution_count": 2,
   "id": "ba3a0f73",
   "metadata": {},
   "outputs": [
    {
     "name": "stdout",
     "output_type": "stream",
     "text": [
      "Enter any number: 13\n",
      "13 is a prime number\n"
     ]
    }
   ],
   "source": [
    "# taking input from user\n",
    "number = int(input(\"Enter any number: \"))\n",
    "\n",
    "# prime number is always greater than 1\n",
    "if number > 1:\n",
    "    for i in range(2, number):\n",
    "        if (number % i) == 0:\n",
    "            print(number, \"is not a prime number\")\n",
    "            break\n",
    "    else:\n",
    "        print(number, \"is a prime number\")\n",
    "\n",
    "# if the entered number is less than or equal to 1\n",
    "# then it is not prime number\n",
    "else:\n",
    "    print(number, \"is not a prime number\")"
   ]
  },
  {
   "cell_type": "markdown",
   "id": "ee3dd46a",
   "metadata": {},
   "source": [
    "Program to print fibonacci series"
   ]
  },
  {
   "cell_type": "code",
   "execution_count": 9,
   "id": "e64ea06a",
   "metadata": {},
   "outputs": [
    {
     "name": "stdout",
     "output_type": "stream",
     "text": [
      "Enter the value of 'n': 5\n",
      "Fibonacci Series:  0 1 1 2 3 "
     ]
    }
   ],
   "source": [
    "n = int(input(\"Enter the value of 'n': \"))\n",
    "a = 0\n",
    "b = 1\n",
    "sum = 0\n",
    "count = 1\n",
    "print(\"Fibonacci Series: \", end = \" \")\n",
    "while(count <= n):\n",
    "  print(sum, end = \" \")\n",
    "  count += 1\n",
    "  a = b\n",
    "  b = sum\n",
    "  sum = a + b"
   ]
  },
  {
   "cell_type": "code",
   "execution_count": 11,
   "id": "0102cb58",
   "metadata": {},
   "outputs": [
    {
     "name": "stdout",
     "output_type": "stream",
     "text": [
      "Enter the nth term: 22\n",
      "The nth term is: 17711\n"
     ]
    }
   ],
   "source": [
    "def fib(n):\n",
    "  a1 = 0\n",
    "  a2 = 1\n",
    "  if n < 0:\n",
    "    print(\"Input Incorrect, try again.\")\n",
    "  elif n == 0:\n",
    "    return 0\n",
    "  elif n == 1:\n",
    "    return a2\n",
    "  else:\n",
    "    for i in range(1, n):\n",
    "      a3 = a1 + a2\n",
    "      a1 = a2\n",
    "      a2 = a3\n",
    "    return a2\n",
    "n = int(input(\"Enter the nth term: \"))\n",
    "print(\"The nth term is:\", fib(n))"
   ]
  },
  {
   "cell_type": "markdown",
   "id": "7530d4d2",
   "metadata": {},
   "source": [
    "Program to check amstrong number or not  "
   ]
  },
  {
   "cell_type": "code",
   "execution_count": 12,
   "id": "2b350d11",
   "metadata": {},
   "outputs": [
    {
     "name": "stdout",
     "output_type": "stream",
     "text": [
      "Enter a number: 663\n",
      "663 is not an Armstrong number\n"
     ]
    }
   ],
   "source": [
    "# take input from the user\n",
    "num = int(input(\"Enter a number: \"))\n",
    "\n",
    "# initialize sum\n",
    "sum = 0\n",
    "\n",
    "# find the sum of the cube of each digit\n",
    "temp = num\n",
    "while temp > 0:\n",
    "   digit = temp % 10\n",
    "   sum += digit ** 3\n",
    "   temp //= 10\n",
    "\n",
    "# display the result\n",
    "if num == sum:\n",
    "   print(num,\"is an Armstrong number\")\n",
    "else:\n",
    "   print(num,\"is not an Armstrong number\")"
   ]
  },
  {
   "cell_type": "markdown",
   "id": "de5e030a",
   "metadata": {},
   "source": [
    "program to print the pyramid (nested loop)"
   ]
  },
  {
   "cell_type": "code",
   "execution_count": 20,
   "id": "25a3e5a4",
   "metadata": {},
   "outputs": [
    {
     "name": "stdout",
     "output_type": "stream",
     "text": [
      "* \r\n",
      "* * \r\n",
      "* * * \r\n",
      "* * * * \r\n",
      "* * * * * \r\n"
     ]
    }
   ],
   "source": [
    "def pypart(n):\n",
    "     \n",
    "    # outer loop to handle number of rows\n",
    "    # n in this case\n",
    "    for i in range(0, n):\n",
    "     \n",
    "        # inner loop to handle number of columns\n",
    "        # values changing acc. to outer loop\n",
    "        for j in range(0, i+1):\n",
    "         \n",
    "            # printing stars\n",
    "            print(\"* \",end=\"\")\n",
    "      \n",
    "        # ending line after each row\n",
    "        print(\"\\r\")\n",
    " \n",
    "# Driver Code\n",
    "n = 5\n",
    "pypart(n)"
   ]
  },
  {
   "cell_type": "markdown",
   "id": "bbd8df19",
   "metadata": {},
   "source": [
    "program to check strong number or not "
   ]
  },
  {
   "cell_type": "code",
   "execution_count": 13,
   "id": "92f78149",
   "metadata": {},
   "outputs": [
    {
     "name": "stdout",
     "output_type": "stream",
     "text": [
      "Enter a number:145\n",
      "The number is a strong number\n"
     ]
    }
   ],
   "source": [
    "sum1=0\n",
    "num=int(input(\"Enter a number:\"))\n",
    "temp=num\n",
    "while(num):\n",
    "    i=1\n",
    "    f=1\n",
    "    r=num%10\n",
    "    while(i<=r):\n",
    "        f=f*i\n",
    "        i=i+1\n",
    "    sum1=sum1+f\n",
    "    num=num//10\n",
    "if(sum1==temp):\n",
    "    print(\"The number is a strong number\")\n",
    "else:\n",
    "    print(\"The number is not a strong number\")"
   ]
  },
  {
   "cell_type": "code",
   "execution_count": null,
   "id": "3b1251b5",
   "metadata": {},
   "outputs": [],
   "source": [
    "Program to check perfect number or not "
   ]
  },
  {
   "cell_type": "code",
   "execution_count": 14,
   "id": "a5aad1bd",
   "metadata": {},
   "outputs": [
    {
     "name": "stdout",
     "output_type": "stream",
     "text": [
      "Enter any number: 6\n",
      "The number is a Perfect number!\n"
     ]
    }
   ],
   "source": [
    "n = int(input(\"Enter any number: \"))\n",
    "sum1 = 0\n",
    "for i in range(1, n):\n",
    "    if(n % i == 0):\n",
    "        sum1 = sum1 + i\n",
    "if (sum1 == n):\n",
    "    print(\"The number is a Perfect number!\")\n",
    "else:\n",
    "    print(\"The number is not a Perfect number!\")"
   ]
  },
  {
   "cell_type": "markdown",
   "id": "1a1989c8",
   "metadata": {},
   "source": [
    " Program to check whether a given number is palindrome or not"
   ]
  },
  {
   "cell_type": "code",
   "execution_count": 16,
   "id": "b5ff6849",
   "metadata": {},
   "outputs": [
    {
     "name": "stdout",
     "output_type": "stream",
     "text": [
      "Enter number:121\n",
      "The number is a palindrome!\n"
     ]
    }
   ],
   "source": [
    "n=int(input(\"Enter number:\"))\n",
    "temp=n\n",
    "rev=0\n",
    "while(n>0):\n",
    "    dig=n%10\n",
    "    rev=rev*10+dig\n",
    "    n=n//10\n",
    "if(temp==rev):\n",
    "    print(\"The number is a palindrome!\")\n",
    "else:\n",
    "    print(\"The number isn't a palindrome!\")"
   ]
  },
  {
   "cell_type": "markdown",
   "id": "cae3db9d",
   "metadata": {},
   "source": [
    "Find factors of a number"
   ]
  },
  {
   "cell_type": "code",
   "execution_count": 19,
   "id": "4b853e0b",
   "metadata": {},
   "outputs": [
    {
     "name": "stdout",
     "output_type": "stream",
     "text": [
      "The factors of 469 are,\n",
      "1\n",
      "7\n",
      "67\n",
      "469\n"
     ]
    }
   ],
   "source": [
    "number = 469\n",
    "\n",
    "print(\"The factors of {} are,\".format(number))\n",
    "\n",
    "for i in range(1,number+1):\n",
    "    if number % i == 0:\n",
    "        print(i)"
   ]
  }
 ],
 "metadata": {
  "kernelspec": {
   "display_name": "Python 3 (ipykernel)",
   "language": "python",
   "name": "python3"
  },
  "language_info": {
   "codemirror_mode": {
    "name": "ipython",
    "version": 3
   },
   "file_extension": ".py",
   "mimetype": "text/x-python",
   "name": "python",
   "nbconvert_exporter": "python",
   "pygments_lexer": "ipython3",
   "version": "3.9.7"
  }
 },
 "nbformat": 4,
 "nbformat_minor": 5
}
